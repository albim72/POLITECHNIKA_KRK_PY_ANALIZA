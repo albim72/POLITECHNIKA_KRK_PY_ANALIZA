{
 "cells":[
  {
   "cell_type":"code",
   "source":[
    "import numpy as np\n",
    "import deap as dp"
   ],
   "execution_count":54,
   "outputs":[
    
   ],
   "metadata":{
    "datalore":{
     "node_id":"dIBPTWe4dRJ511aBSEHl3u",
     "type":"CODE",
     "hide_input_from_viewers":true,
     "hide_output_from_viewers":true
    }
   }
  },
  {
   "cell_type":"code",
   "source":[
    "arr = np.array([[1.,2.,3.],[6.,8.,9.]])\n",
    "arr"
   ],
   "execution_count":55,
   "outputs":[
    {
     "data":{
      "text\/html":[
       "<pre>array([[1., 2., 3.],\n",
       "       [6., 8., 9.]])<\/pre>"
      ]
     },
     "metadata":{
      
     },
     "output_type":"display_data"
    }
   ],
   "metadata":{
    "datalore":{
     "node_id":"O4mU8eJkfzVRytz4SGSn8G",
     "type":"CODE",
     "hide_input_from_viewers":true,
     "hide_output_from_viewers":true
    }
   }
  },
  {
   "cell_type":"code",
   "source":[
    "arr*arr"
   ],
   "execution_count":56,
   "outputs":[
    {
     "data":{
      "text\/html":[
       "<pre>array([[ 1.,  4.,  9.],\n",
       "       [36., 64., 81.]])<\/pre>"
      ]
     },
     "metadata":{
      
     },
     "output_type":"display_data"
    }
   ],
   "metadata":{
    "datalore":{
     "node_id":"EPnRH9dOGxaccCbSYd1bcg",
     "type":"CODE",
     "hide_input_from_viewers":true,
     "hide_output_from_viewers":true
    }
   }
  },
  {
   "cell_type":"code",
   "source":[
    "arr-arr"
   ],
   "execution_count":57,
   "outputs":[
    {
     "data":{
      "text\/html":[
       "<pre>array([[0., 0., 0.],\n",
       "       [0., 0., 0.]])<\/pre>"
      ]
     },
     "metadata":{
      
     },
     "output_type":"display_data"
    }
   ],
   "metadata":{
    "datalore":{
     "node_id":"pi0oDSmcXklVHVwRFI7TGS",
     "type":"CODE",
     "hide_input_from_viewers":true,
     "hide_output_from_viewers":true
    }
   }
  },
  {
   "cell_type":"code",
   "source":[
    "1\/arr"
   ],
   "execution_count":58,
   "outputs":[
    {
     "data":{
      "text\/html":[
       "<pre>array([[1.        , 0.5       , 0.33333333],\n",
       "       [0.16666667, 0.125     , 0.11111111]])<\/pre>"
      ]
     },
     "metadata":{
      
     },
     "output_type":"display_data"
    }
   ],
   "metadata":{
    "datalore":{
     "node_id":"5JMAyNCaHQhFzGmSP1yXN0",
     "type":"CODE",
     "hide_input_from_viewers":true,
     "hide_output_from_viewers":true
    }
   }
  },
  {
   "cell_type":"code",
   "source":[
    "arr**0.5"
   ],
   "execution_count":59,
   "outputs":[
    {
     "data":{
      "text\/html":[
       "<pre>array([[1.        , 1.41421356, 1.73205081],\n",
       "       [2.44948974, 2.82842712, 3.        ]])<\/pre>"
      ]
     },
     "metadata":{
      
     },
     "output_type":"display_data"
    }
   ],
   "metadata":{
    "datalore":{
     "node_id":"LXFUaGJ4Mc4EzJGCEpiayA",
     "type":"CODE",
     "hide_input_from_viewers":true,
     "hide_output_from_viewers":true
    }
   }
  },
  {
   "cell_type":"code",
   "source":[
    "arr2 = np.array([[0.,4.,1.],[7.,5.,14.]])\n",
    "arr2"
   ],
   "execution_count":60,
   "outputs":[
    {
     "data":{
      "text\/html":[
       "<pre>array([[ 0.,  4.,  1.],\n",
       "       [ 7.,  5., 14.]])<\/pre>"
      ]
     },
     "metadata":{
      
     },
     "output_type":"display_data"
    }
   ],
   "metadata":{
    "datalore":{
     "node_id":"CduQZyqhf6YhJVZ6FTTFTf",
     "type":"CODE",
     "hide_input_from_viewers":true,
     "hide_output_from_viewers":true
    }
   }
  },
  {
   "cell_type":"code",
   "source":[
    "arr2>arr"
   ],
   "execution_count":61,
   "outputs":[
    {
     "data":{
      "text\/html":[
       "<pre>array([[False,  True, False],\n",
       "       [ True, False,  True]])<\/pre>"
      ]
     },
     "metadata":{
      
     },
     "output_type":"display_data"
    }
   ],
   "metadata":{
    "datalore":{
     "node_id":"DzMAMmCg7fELM8rTvq8mvr",
     "type":"CODE",
     "hide_input_from_viewers":true,
     "hide_output_from_viewers":true
    }
   }
  },
  {
   "cell_type":"code",
   "source":[
    "arr2D = np.array([[1,2,3],[4,5,6],[7,8,9]])\n",
    "arr2D[2]"
   ],
   "execution_count":62,
   "outputs":[
    {
     "data":{
      "text\/html":[
       "<pre>array([7, 8, 9])<\/pre>"
      ]
     },
     "metadata":{
      
     },
     "output_type":"display_data"
    }
   ],
   "metadata":{
    "datalore":{
     "node_id":"PBFKNc6N4cKu73fyYpsoz6",
     "type":"CODE",
     "hide_input_from_viewers":true,
     "hide_output_from_viewers":true
    }
   }
  },
  {
   "cell_type":"code",
   "source":[
    "arr2D[0][2]"
   ],
   "execution_count":63,
   "outputs":[
    {
     "data":{
      "text\/plain":[
       "3"
      ]
     },
     "metadata":{
      
     },
     "output_type":"display_data"
    }
   ],
   "metadata":{
    "datalore":{
     "node_id":"ZOFCWe5m8IAdzySAXvJyJA",
     "type":"CODE",
     "hide_input_from_viewers":true,
     "hide_output_from_viewers":true
    }
   }
  },
  {
   "cell_type":"code",
   "source":[
    "arr2D[0,2]"
   ],
   "execution_count":64,
   "outputs":[
    {
     "data":{
      "text\/plain":[
       "3"
      ]
     },
     "metadata":{
      
     },
     "output_type":"display_data"
    }
   ],
   "metadata":{
    "datalore":{
     "node_id":"idr1UKTdHxmV3yCjhsFP3Z",
     "type":"CODE",
     "hide_input_from_viewers":true,
     "hide_output_from_viewers":true
    }
   }
  },
  {
   "cell_type":"markdown",
   "source":[
    "Budowa **tensora** (tablica 3D)"
   ],
   "attachments":{
    
   },
   "metadata":{
    "datalore":{
     "node_id":"6GLt0MUWLe8e5K7Sx3Hbfi",
     "type":"MD",
     "hide_input_from_viewers":true,
     "hide_output_from_viewers":true
    }
   }
  },
  {
   "cell_type":"code",
   "source":[
    "arr3d = np.array([[[1,2,3],[4,5,6]],[[7,8,9],[10,11,12]]])\n",
    "arr3d3 = np.array([[[1,2,3],[4,5,6],[23,24,25]],[[7,8,9],[10,11,12],[67,68,69]],[[31,32,33],[45,46,47],[89,90,91]]])"
   ],
   "execution_count":65,
   "outputs":[
    
   ],
   "metadata":{
    "datalore":{
     "node_id":"lN5kL5Np01ls7zBNi998dx",
     "type":"CODE",
     "hide_input_from_viewers":true,
     "hide_output_from_viewers":true
    }
   }
  },
  {
   "cell_type":"code",
   "source":[
    "arr3d"
   ],
   "execution_count":66,
   "outputs":[
    {
     "data":{
      "text\/plain":[
       "array([[[ 1,  2,  3],\n",
       "        [ 4,  5,  6]],\n",
       "\n",
       "       [[ 7,  8,  9],\n",
       "        [10, 11, 12]]])"
      ]
     },
     "metadata":{
      
     },
     "output_type":"display_data"
    }
   ],
   "metadata":{
    "datalore":{
     "node_id":"zzHBoKJbq7xdl62xoLm269",
     "type":"CODE",
     "hide_input_from_viewers":true,
     "hide_output_from_viewers":true
    }
   }
  },
  {
   "cell_type":"code",
   "source":[
    "arr3d3"
   ],
   "execution_count":67,
   "outputs":[
    {
     "data":{
      "text\/plain":[
       "array([[[ 1,  2,  3],\n",
       "        [ 4,  5,  6],\n",
       "        [23, 24, 25]],\n",
       "\n",
       "       [[ 7,  8,  9],\n",
       "        [10, 11, 12],\n",
       "        [67, 68, 69]],\n",
       "\n",
       "       [[31, 32, 33],\n",
       "        [45, 46, 47],\n",
       "        [89, 90, 91]]])"
      ]
     },
     "metadata":{
      
     },
     "output_type":"display_data"
    }
   ],
   "metadata":{
    "datalore":{
     "node_id":"LYbZNRwkDuwuznjQs7PePp",
     "type":"CODE",
     "hide_input_from_viewers":true,
     "hide_output_from_viewers":true
    }
   }
  },
  {
   "cell_type":"code",
   "source":[
    "print(arr3d.shape)\n",
    "print(arr3d3.shape)"
   ],
   "execution_count":68,
   "outputs":[
    {
     "name":"stdout",
     "text":[
      "(2, 2, 3)\n",
      "(3, 3, 3)\n"
     ],
     "output_type":"stream"
    }
   ],
   "metadata":{
    "datalore":{
     "node_id":"LMEcsj7NBD3McjAHTCUGRQ",
     "type":"CODE",
     "hide_input_from_viewers":true,
     "hide_output_from_viewers":true
    }
   }
  },
  {
   "cell_type":"code",
   "source":[
    "arr3d[0,1,1]"
   ],
   "execution_count":69,
   "outputs":[
    {
     "data":{
      "text\/plain":[
       "5"
      ]
     },
     "metadata":{
      
     },
     "output_type":"display_data"
    }
   ],
   "metadata":{
    "datalore":{
     "node_id":"LinrMH8e4QKjfVoEmZmYyv",
     "type":"CODE",
     "hide_input_from_viewers":true,
     "hide_output_from_viewers":true
    }
   }
  },
  {
   "cell_type":"code",
   "source":[
    "old_values = np.array(arr3d[0])\n",
    "arr3d[0] = 42\n",
    "arr3d[0,1,2] = 22\n",
    "arr3d"
   ],
   "execution_count":70,
   "outputs":[
    {
     "data":{
      "text\/plain":[
       "array([[[42, 42, 42],\n",
       "        [42, 42, 22]],\n",
       "\n",
       "       [[ 7,  8,  9],\n",
       "        [10, 11, 12]]])"
      ]
     },
     "metadata":{
      
     },
     "output_type":"display_data"
    }
   ],
   "metadata":{
    "datalore":{
     "node_id":"Xj76dCuLZp8ejqdkTaELum",
     "type":"CODE",
     "hide_input_from_viewers":true,
     "hide_output_from_viewers":true
    }
   }
  },
  {
   "cell_type":"code",
   "source":[
    "arr3d[0] == old_values"
   ],
   "execution_count":71,
   "outputs":[
    {
     "data":{
      "text\/html":[
       "<pre>array([[False, False, False],\n",
       "       [False, False, False]])<\/pre>"
      ]
     },
     "metadata":{
      
     },
     "output_type":"display_data"
    }
   ],
   "metadata":{
    "datalore":{
     "node_id":"babCxXfNVf4cSndgA4czzc",
     "type":"CODE",
     "hide_input_from_viewers":true,
     "hide_output_from_viewers":true
    }
   }
  },
  {
   "cell_type":"code",
   "source":[
    "arr3d[0] = old_values\n",
    "arr3d"
   ],
   "execution_count":72,
   "outputs":[
    {
     "data":{
      "text\/plain":[
       "array([[[ 1,  2,  3],\n",
       "        [ 4,  5,  6]],\n",
       "\n",
       "       [[ 7,  8,  9],\n",
       "        [10, 11, 12]]])"
      ]
     },
     "metadata":{
      
     },
     "output_type":"display_data"
    }
   ],
   "metadata":{
    "datalore":{
     "node_id":"SspI8vNr8bt6crNu41HCgG",
     "type":"CODE",
     "hide_input_from_viewers":true,
     "hide_output_from_viewers":true
    }
   }
  },
  {
   "cell_type":"code",
   "source":[
    "names = np.array(['Olga','Anna','Jacek','Piotr','Leon','Maria','Leon'])\n",
    "data = np.random.randn(7,4)"
   ],
   "execution_count":89,
   "outputs":[
    
   ],
   "metadata":{
    "datalore":{
     "node_id":"kVylO9nfKBFrgqXQExnnwJ",
     "type":"CODE",
     "hide_input_from_viewers":true,
     "hide_output_from_viewers":true
    }
   }
  },
  {
   "cell_type":"code",
   "source":[
    "names"
   ],
   "execution_count":90,
   "outputs":[
    {
     "data":{
      "text\/html":[
       "<pre>array(['Olga', 'Anna', 'Jacek', 'Piotr', 'Leon', 'Maria', 'Leon'],\n",
       "      dtype='%lt;U5')<\/pre>"
      ]
     },
     "metadata":{
      
     },
     "output_type":"display_data"
    }
   ],
   "metadata":{
    "datalore":{
     "node_id":"sKlPzLryHvxyzFkjJy4mQQ",
     "type":"CODE",
     "hide_input_from_viewers":true,
     "hide_output_from_viewers":true
    }
   }
  },
  {
   "cell_type":"code",
   "source":[
    "data"
   ],
   "execution_count":91,
   "outputs":[
    {
     "data":{
      "text\/html":[
       "<pre>array([[ 0.08650947,  0.95972659, -1.5713736 ,  0.9515434 ],\n",
       "       [-1.53854212, -0.51006029, -0.8734057 , -1.40039482],\n",
       "       [-0.69190397, -0.84402182,  1.06491347,  0.34633834],\n",
       "       [ 1.06530407,  2.15085108, -0.34113599,  1.42162115],\n",
       "       [-0.04350099,  0.68098816, -1.80294691,  0.34629367],\n",
       "       [-0.56074119,  0.48575469, -0.77479308,  0.04589436],\n",
       "       [-0.77402433, -0.5423209 ,  0.05282443,  0.4093474 ]])<\/pre>"
      ]
     },
     "metadata":{
      
     },
     "output_type":"display_data"
    }
   ],
   "metadata":{
    "datalore":{
     "node_id":"Tr1MIUeUH6JXjftOG9HTuN",
     "type":"CODE",
     "hide_input_from_viewers":true,
     "hide_output_from_viewers":true
    }
   }
  },
  {
   "cell_type":"code",
   "source":[
    "data[names==\"Leon\"]"
   ],
   "execution_count":92,
   "outputs":[
    {
     "data":{
      "text\/html":[
       "<pre>array([[-0.04350099,  0.68098816, -1.80294691,  0.34629367],\n",
       "       [-0.77402433, -0.5423209 ,  0.05282443,  0.4093474 ]])<\/pre>"
      ]
     },
     "metadata":{
      
     },
     "output_type":"display_data"
    }
   ],
   "metadata":{
    "datalore":{
     "node_id":"0GZ1fdgktEKUEOoUJpQS7f",
     "type":"CODE",
     "hide_input_from_viewers":true,
     "hide_output_from_viewers":true
    }
   }
  },
  {
   "cell_type":"code",
   "source":[
    "data[names==\"Leon\",2:]"
   ],
   "execution_count":93,
   "outputs":[
    {
     "data":{
      "text\/html":[
       "<pre>array([[-1.80294691,  0.34629367],\n",
       "       [ 0.05282443,  0.4093474 ]])<\/pre>"
      ]
     },
     "metadata":{
      
     },
     "output_type":"display_data"
    }
   ],
   "metadata":{
    "datalore":{
     "node_id":"f42twVJsUVbbOUwC8pIds6",
     "type":"CODE",
     "hide_input_from_viewers":true,
     "hide_output_from_viewers":true
    }
   }
  },
  {
   "cell_type":"code",
   "source":[
    "data[names==\"Leon\",3]"
   ],
   "execution_count":94,
   "outputs":[
    {
     "data":{
      "text\/html":[
       "<pre>array([0.34629367, 0.4093474 ])<\/pre>"
      ]
     },
     "metadata":{
      
     },
     "output_type":"display_data"
    }
   ],
   "metadata":{
    "datalore":{
     "node_id":"5lzmO1O1vllaV3MuP5I8WR",
     "type":"CODE",
     "hide_input_from_viewers":true,
     "hide_output_from_viewers":true
    }
   }
  },
  {
   "cell_type":"code",
   "source":[
    "names != \"Leon\""
   ],
   "execution_count":95,
   "outputs":[
    {
     "data":{
      "text\/html":[
       "<pre>array([ True,  True,  True,  True, False,  True, False])<\/pre>"
      ]
     },
     "metadata":{
      
     },
     "output_type":"display_data"
    }
   ],
   "metadata":{
    "datalore":{
     "node_id":"lpEvNJTeSUGIzsLXSg6yBM",
     "type":"CODE",
     "hide_input_from_viewers":true,
     "hide_output_from_viewers":true
    }
   }
  },
  {
   "cell_type":"code",
   "source":[
    "data[~(names=='Leon')]"
   ],
   "execution_count":96,
   "outputs":[
    {
     "data":{
      "text\/html":[
       "<pre>array([[ 0.08650947,  0.95972659, -1.5713736 ,  0.9515434 ],\n",
       "       [-1.53854212, -0.51006029, -0.8734057 , -1.40039482],\n",
       "       [-0.69190397, -0.84402182,  1.06491347,  0.34633834],\n",
       "       [ 1.06530407,  2.15085108, -0.34113599,  1.42162115],\n",
       "       [-0.56074119,  0.48575469, -0.77479308,  0.04589436]])<\/pre>"
      ]
     },
     "metadata":{
      
     },
     "output_type":"display_data"
    }
   ],
   "metadata":{
    "datalore":{
     "node_id":"a3KCF4OXn72exbzxqakGr0",
     "type":"CODE",
     "hide_input_from_viewers":true,
     "hide_output_from_viewers":true
    }
   }
  },
  {
   "cell_type":"code",
   "source":[
    "maska = (names==\"Leon\") | (names==\"Anna\")\n",
    "maska"
   ],
   "execution_count":97,
   "outputs":[
    {
     "data":{
      "text\/html":[
       "<pre>array([False,  True, False, False,  True, False,  True])<\/pre>"
      ]
     },
     "metadata":{
      
     },
     "output_type":"display_data"
    }
   ],
   "metadata":{
    "datalore":{
     "node_id":"U8YQFfpU7VaHRbJrUVF9o1",
     "type":"CODE",
     "hide_input_from_viewers":true,
     "hide_output_from_viewers":true
    }
   }
  },
  {
   "cell_type":"code",
   "source":[
    "data[maska]"
   ],
   "execution_count":98,
   "outputs":[
    {
     "data":{
      "text\/html":[
       "<pre>array([[-1.53854212, -0.51006029, -0.8734057 , -1.40039482],\n",
       "       [-0.04350099,  0.68098816, -1.80294691,  0.34629367],\n",
       "       [-0.77402433, -0.5423209 ,  0.05282443,  0.4093474 ]])<\/pre>"
      ]
     },
     "metadata":{
      
     },
     "output_type":"display_data"
    }
   ],
   "metadata":{
    "datalore":{
     "node_id":"MddhLTlZfHpODbOyvlENRr",
     "type":"CODE",
     "hide_input_from_viewers":true,
     "hide_output_from_viewers":true
    }
   }
  },
  {
   "cell_type":"code",
   "source":[
    "data[data<0] =0\n",
    "data"
   ],
   "execution_count":99,
   "outputs":[
    {
     "data":{
      "text\/html":[
       "<pre>array([[0.08650947, 0.95972659, 0.        , 0.9515434 ],\n",
       "       [0.        , 0.        , 0.        , 0.        ],\n",
       "       [0.        , 0.        , 1.06491347, 0.34633834],\n",
       "       [1.06530407, 2.15085108, 0.        , 1.42162115],\n",
       "       [0.        , 0.68098816, 0.        , 0.34629367],\n",
       "       [0.        , 0.48575469, 0.        , 0.04589436],\n",
       "       [0.        , 0.        , 0.05282443, 0.4093474 ]])<\/pre>"
      ]
     },
     "metadata":{
      
     },
     "output_type":"display_data"
    }
   ],
   "metadata":{
    "datalore":{
     "node_id":"oMXlq5d9TxGJgX241E3CEh",
     "type":"CODE",
     "hide_input_from_viewers":true,
     "hide_output_from_viewers":true
    }
   }
  },
  {
   "cell_type":"code",
   "source":[
    "data[names!=\"Leon\"] = 8\n",
    "data"
   ],
   "execution_count":100,
   "outputs":[
    {
     "data":{
      "text\/html":[
       "<pre>array([[8.        , 8.        , 8.        , 8.        ],\n",
       "       [8.        , 8.        , 8.        , 8.        ],\n",
       "       [8.        , 8.        , 8.        , 8.        ],\n",
       "       [8.        , 8.        , 8.        , 8.        ],\n",
       "       [0.        , 0.68098816, 0.        , 0.34629367],\n",
       "       [8.        , 8.        , 8.        , 8.        ],\n",
       "       [0.        , 0.        , 0.05282443, 0.4093474 ]])<\/pre>"
      ]
     },
     "metadata":{
      
     },
     "output_type":"display_data"
    }
   ],
   "metadata":{
    "datalore":{
     "node_id":"k329v2yYYVL3IQDKIvwUra",
     "type":"CODE",
     "hide_input_from_viewers":true,
     "hide_output_from_viewers":true
    }
   }
  },
  {
   "cell_type":"code",
   "source":[
    "arr = np.empty((8,4))\n",
    "for i in range(8):\n",
    "    arr[i] = i\n",
    "arr"
   ],
   "execution_count":101,
   "outputs":[
    {
     "data":{
      "text\/html":[
       "<pre>array([[0., 0., 0., 0.],\n",
       "       [1., 1., 1., 1.],\n",
       "       [2., 2., 2., 2.],\n",
       "       [3., 3., 3., 3.],\n",
       "       [4., 4., 4., 4.],\n",
       "       [5., 5., 5., 5.],\n",
       "       [6., 6., 6., 6.],\n",
       "       [7., 7., 7., 7.]])<\/pre>"
      ]
     },
     "metadata":{
      
     },
     "output_type":"display_data"
    }
   ],
   "metadata":{
    "datalore":{
     "node_id":"6ILziWRwQBYRexwVRNtbjC",
     "type":"CODE",
     "hide_input_from_viewers":true,
     "hide_output_from_viewers":true
    }
   }
  },
  {
   "cell_type":"code",
   "source":[
    "arr[[4,3,0,6]]"
   ],
   "execution_count":102,
   "outputs":[
    {
     "data":{
      "text\/html":[
       "<pre>array([[4., 4., 4., 4.],\n",
       "       [3., 3., 3., 3.],\n",
       "       [0., 0., 0., 0.],\n",
       "       [6., 6., 6., 6.]])<\/pre>"
      ]
     },
     "metadata":{
      
     },
     "output_type":"display_data"
    }
   ],
   "metadata":{
    "datalore":{
     "node_id":"vwszcBYkdPpP7TUqrCm0t5",
     "type":"CODE",
     "hide_input_from_viewers":true,
     "hide_output_from_viewers":true
    }
   }
  },
  {
   "cell_type":"code",
   "source":[
    "arr[[-3,-6,-8]]"
   ],
   "execution_count":103,
   "outputs":[
    {
     "data":{
      "text\/html":[
       "<pre>array([[5., 5., 5., 5.],\n",
       "       [2., 2., 2., 2.],\n",
       "       [0., 0., 0., 0.]])<\/pre>"
      ]
     },
     "metadata":{
      
     },
     "output_type":"display_data"
    }
   ],
   "metadata":{
    "datalore":{
     "node_id":"uCuTraQDa6CLrJX3NZ9twF",
     "type":"CODE",
     "hide_input_from_viewers":true,
     "hide_output_from_viewers":true
    }
   }
  },
  {
   "cell_type":"code",
   "source":[
    "arr = np.arange(15).reshape((3,5))\n",
    "arr"
   ],
   "execution_count":104,
   "outputs":[
    {
     "data":{
      "text\/html":[
       "<pre>array([[ 0,  1,  2,  3,  4],\n",
       "       [ 5,  6,  7,  8,  9],\n",
       "       [10, 11, 12, 13, 14]])<\/pre>"
      ]
     },
     "metadata":{
      
     },
     "output_type":"display_data"
    }
   ],
   "metadata":{
    "datalore":{
     "node_id":"W1vPajTChCb57BWhUFSD1k",
     "type":"CODE",
     "hide_input_from_viewers":true,
     "hide_output_from_viewers":true
    }
   }
  },
  {
   "cell_type":"code",
   "source":[
    "arr.T"
   ],
   "execution_count":105,
   "outputs":[
    {
     "data":{
      "text\/html":[
       "<pre>array([[ 0,  5, 10],\n",
       "       [ 1,  6, 11],\n",
       "       [ 2,  7, 12],\n",
       "       [ 3,  8, 13],\n",
       "       [ 4,  9, 14]])<\/pre>"
      ]
     },
     "metadata":{
      
     },
     "output_type":"display_data"
    }
   ],
   "metadata":{
    "datalore":{
     "node_id":"cGpoGqHxCT8LVbA9tZVIFY",
     "type":"CODE",
     "hide_input_from_viewers":true,
     "hide_output_from_viewers":true
    }
   }
  },
  {
   "cell_type":"code",
   "source":[
    "arr = np.arange(16).reshape((2,2,4))\n",
    "arr"
   ],
   "execution_count":106,
   "outputs":[
    {
     "data":{
      "text\/plain":[
       "array([[[ 0,  1,  2,  3],\n",
       "        [ 4,  5,  6,  7]],\n",
       "\n",
       "       [[ 8,  9, 10, 11],\n",
       "        [12, 13, 14, 15]]])"
      ]
     },
     "metadata":{
      
     },
     "output_type":"display_data"
    }
   ],
   "metadata":{
    "datalore":{
     "node_id":"Sb6XEdgdBvZcqZvdBQfJQl",
     "type":"CODE",
     "hide_input_from_viewers":true,
     "hide_output_from_viewers":true
    }
   }
  },
  {
   "cell_type":"code",
   "source":[
    "arr.T"
   ],
   "execution_count":108,
   "outputs":[
    {
     "data":{
      "text\/plain":[
       "array([[[ 0,  8],\n",
       "        [ 4, 12]],\n",
       "\n",
       "       [[ 1,  9],\n",
       "        [ 5, 13]],\n",
       "\n",
       "       [[ 2, 10],\n",
       "        [ 6, 14]],\n",
       "\n",
       "       [[ 3, 11],\n",
       "        [ 7, 15]]])"
      ]
     },
     "metadata":{
      
     },
     "output_type":"display_data"
    }
   ],
   "metadata":{
    "datalore":{
     "node_id":"HNMq7BuEO1IQ62eidfHQ2w",
     "type":"CODE",
     "hide_input_from_viewers":true,
     "hide_output_from_viewers":true
    }
   }
  },
  {
   "cell_type":"code",
   "source":[
    "arr2 = arr.transpose((1,0,2))\n",
    "arr2"
   ],
   "execution_count":110,
   "outputs":[
    {
     "data":{
      "text\/plain":[
       "array([[[ 0,  1,  2,  3],\n",
       "        [ 8,  9, 10, 11]],\n",
       "\n",
       "       [[ 4,  5,  6,  7],\n",
       "        [12, 13, 14, 15]]])"
      ]
     },
     "metadata":{
      
     },
     "output_type":"display_data"
    }
   ],
   "metadata":{
    "datalore":{
     "node_id":"I04z51FRly3zlpW8XZTSkx",
     "type":"CODE",
     "hide_input_from_viewers":true,
     "hide_output_from_viewers":true
    }
   }
  }
 ],
 "metadata":{
  "kernelspec":{
   "display_name":"Python",
   "language":"python",
   "name":"python"
  },
  "datalore":{
   "computation_mode":"JUPYTER",
   "package_manager":"pip",
   "base_environment":"default",
   "packages":[
    {
     "name":"deap",
     "version":"1.4.1",
     "source":"PIP"
    }
   ],
   "report_row_ids":[
    
   ],
   "version":3
  }
 },
 "nbformat":4,
 "nbformat_minor":4
}