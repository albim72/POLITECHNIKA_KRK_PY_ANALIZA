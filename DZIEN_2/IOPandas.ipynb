{
 "cells":[
  {
   "cell_type":"code",
   "source":[
    "import pandas as pd\n",
    "import numpy as np"
   ],
   "execution_count":1,
   "outputs":[
    
   ],
   "metadata":{
    "datalore":{
     "node_id":"RlkOTPqEn9nndvWYquI11W",
     "type":"CODE",
     "hide_input_from_viewers":true,
     "hide_output_from_viewers":true
    }
   }
  },
  {
   "cell_type":"code",
   "source":[
    "data = {\n",
    "    'jabłko':[8,6,3,5],\n",
    "    'pomarańcza':[2,2,10,7],\n",
    "    'gruszka':[1,0,4,2],\n",
    "    'kiwi':[0,2,0,4],\n",
    "    'borówka':[2,0,0,0]\n",
    "}\n",
    "\n",
    "p = pd.DataFrame(data)\n",
    "p"
   ],
   "execution_count":3,
   "outputs":[
    {
     "data":{
      "text\/html":[
       "<div>\n",
       "<style scoped>\n",
       "    .dataframe tbody tr th:only-of-type {\n",
       "        vertical-align: middle;\n",
       "    }\n",
       "\n",
       "    .dataframe tbody tr th {\n",
       "        vertical-align: top;\n",
       "    }\n",
       "\n",
       "    .dataframe thead th {\n",
       "        text-align: right;\n",
       "    }\n",
       "<\/style>\n",
       "<table border=\"1\" class=\"dataframe\">\n",
       "  <thead>\n",
       "    <tr style=\"text-align: right;\">\n",
       "      <th><\/th>\n",
       "      <th>jabłko<\/th>\n",
       "      <th>pomarańcza<\/th>\n",
       "      <th>gruszka<\/th>\n",
       "      <th>kiwi<\/th>\n",
       "      <th>borówka<\/th>\n",
       "    <\/tr>\n",
       "  <\/thead>\n",
       "  <tbody>\n",
       "    <tr>\n",
       "      <th>0<\/th>\n",
       "      <td>8<\/td>\n",
       "      <td>2<\/td>\n",
       "      <td>1<\/td>\n",
       "      <td>0<\/td>\n",
       "      <td>2<\/td>\n",
       "    <\/tr>\n",
       "    <tr>\n",
       "      <th>1<\/th>\n",
       "      <td>6<\/td>\n",
       "      <td>2<\/td>\n",
       "      <td>0<\/td>\n",
       "      <td>2<\/td>\n",
       "      <td>0<\/td>\n",
       "    <\/tr>\n",
       "    <tr>\n",
       "      <th>2<\/th>\n",
       "      <td>3<\/td>\n",
       "      <td>10<\/td>\n",
       "      <td>4<\/td>\n",
       "      <td>0<\/td>\n",
       "      <td>0<\/td>\n",
       "    <\/tr>\n",
       "    <tr>\n",
       "      <th>3<\/th>\n",
       "      <td>5<\/td>\n",
       "      <td>7<\/td>\n",
       "      <td>2<\/td>\n",
       "      <td>4<\/td>\n",
       "      <td>0<\/td>\n",
       "    <\/tr>\n",
       "  <\/tbody>\n",
       "<\/table>\n",
       "<\/div>"
      ]
     },
     "metadata":{
      
     },
     "output_type":"display_data"
    }
   ],
   "metadata":{
    "datalore":{
     "node_id":"E5SkD1o0kfpj8DfDcpE1ao",
     "type":"CODE",
     "hide_input_from_viewers":true,
     "hide_output_from_viewers":true
    }
   }
  },
  {
   "cell_type":"code",
   "source":[
    "p = pd.DataFrame(data,index=['Olga','Jarek','Karol','Maria'])\n",
    "p"
   ],
   "execution_count":4,
   "outputs":[
    {
     "data":{
      "text\/html":[
       "<div>\n",
       "<style scoped>\n",
       "    .dataframe tbody tr th:only-of-type {\n",
       "        vertical-align: middle;\n",
       "    }\n",
       "\n",
       "    .dataframe tbody tr th {\n",
       "        vertical-align: top;\n",
       "    }\n",
       "\n",
       "    .dataframe thead th {\n",
       "        text-align: right;\n",
       "    }\n",
       "<\/style>\n",
       "<table border=\"1\" class=\"dataframe\">\n",
       "  <thead>\n",
       "    <tr style=\"text-align: right;\">\n",
       "      <th><\/th>\n",
       "      <th>jabłko<\/th>\n",
       "      <th>pomarańcza<\/th>\n",
       "      <th>gruszka<\/th>\n",
       "      <th>kiwi<\/th>\n",
       "      <th>borówka<\/th>\n",
       "    <\/tr>\n",
       "  <\/thead>\n",
       "  <tbody>\n",
       "    <tr>\n",
       "      <th>Olga<\/th>\n",
       "      <td>8<\/td>\n",
       "      <td>2<\/td>\n",
       "      <td>1<\/td>\n",
       "      <td>0<\/td>\n",
       "      <td>2<\/td>\n",
       "    <\/tr>\n",
       "    <tr>\n",
       "      <th>Jarek<\/th>\n",
       "      <td>6<\/td>\n",
       "      <td>2<\/td>\n",
       "      <td>0<\/td>\n",
       "      <td>2<\/td>\n",
       "      <td>0<\/td>\n",
       "    <\/tr>\n",
       "    <tr>\n",
       "      <th>Karol<\/th>\n",
       "      <td>3<\/td>\n",
       "      <td>10<\/td>\n",
       "      <td>4<\/td>\n",
       "      <td>0<\/td>\n",
       "      <td>0<\/td>\n",
       "    <\/tr>\n",
       "    <tr>\n",
       "      <th>Maria<\/th>\n",
       "      <td>5<\/td>\n",
       "      <td>7<\/td>\n",
       "      <td>2<\/td>\n",
       "      <td>4<\/td>\n",
       "      <td>0<\/td>\n",
       "    <\/tr>\n",
       "  <\/tbody>\n",
       "<\/table>\n",
       "<\/div>"
      ]
     },
     "metadata":{
      
     },
     "output_type":"display_data"
    }
   ],
   "metadata":{
    "datalore":{
     "node_id":"fCubVVB50rzCEeFTGUMI8Q",
     "type":"CODE",
     "hide_input_from_viewers":true,
     "hide_output_from_viewers":true
    }
   }
  },
  {
   "cell_type":"code",
   "source":[
    "p.to_csv('owoce.csv')\n",
    "print(p.info())"
   ],
   "execution_count":5,
   "outputs":[
    {
     "name":"stdout",
     "text":[
      "<class 'pandas.core.frame.DataFrame'>\n",
      "Index: 4 entries, Olga to Maria\n",
      "Data columns (total 5 columns):\n",
      " #   Column      Non-Null Count  Dtype\n",
      "---  ------      --------------  -----\n",
      " 0   jabłko      4 non-null      int64\n",
      " 1   pomarańcza  4 non-null      int64\n",
      " 2   gruszka     4 non-null      int64\n",
      " 3   kiwi        4 non-null      int64\n",
      " 4   borówka     4 non-null      int64\n",
      "dtypes: int64(5)\n",
      "memory usage: 192.0+ bytes\n",
      "None\n"
     ],
     "output_type":"stream"
    }
   ],
   "metadata":{
    "datalore":{
     "node_id":"CJ26eFY14WoKiESnmt6cmY",
     "type":"CODE",
     "hide_input_from_viewers":true,
     "hide_output_from_viewers":true
    }
   }
  },
  {
   "cell_type":"code",
   "source":[
    "owdf = pd.read_csv('owoce.csv',index_col=0)\n",
    "owdf"
   ],
   "execution_count":7,
   "outputs":[
    {
     "data":{
      "text\/html":[
       "<div>\n",
       "<style scoped>\n",
       "    .dataframe tbody tr th:only-of-type {\n",
       "        vertical-align: middle;\n",
       "    }\n",
       "\n",
       "    .dataframe tbody tr th {\n",
       "        vertical-align: top;\n",
       "    }\n",
       "\n",
       "    .dataframe thead th {\n",
       "        text-align: right;\n",
       "    }\n",
       "<\/style>\n",
       "<table border=\"1\" class=\"dataframe\">\n",
       "  <thead>\n",
       "    <tr style=\"text-align: right;\">\n",
       "      <th><\/th>\n",
       "      <th>jabłko<\/th>\n",
       "      <th>pomarańcza<\/th>\n",
       "      <th>gruszka<\/th>\n",
       "      <th>kiwi<\/th>\n",
       "      <th>borówka<\/th>\n",
       "    <\/tr>\n",
       "  <\/thead>\n",
       "  <tbody>\n",
       "    <tr>\n",
       "      <th>Olga<\/th>\n",
       "      <td>8<\/td>\n",
       "      <td>2<\/td>\n",
       "      <td>1<\/td>\n",
       "      <td>0<\/td>\n",
       "      <td>2<\/td>\n",
       "    <\/tr>\n",
       "    <tr>\n",
       "      <th>Jarek<\/th>\n",
       "      <td>6<\/td>\n",
       "      <td>2<\/td>\n",
       "      <td>0<\/td>\n",
       "      <td>2<\/td>\n",
       "      <td>0<\/td>\n",
       "    <\/tr>\n",
       "    <tr>\n",
       "      <th>Karol<\/th>\n",
       "      <td>3<\/td>\n",
       "      <td>10<\/td>\n",
       "      <td>4<\/td>\n",
       "      <td>0<\/td>\n",
       "      <td>0<\/td>\n",
       "    <\/tr>\n",
       "    <tr>\n",
       "      <th>Maria<\/th>\n",
       "      <td>5<\/td>\n",
       "      <td>7<\/td>\n",
       "      <td>2<\/td>\n",
       "      <td>4<\/td>\n",
       "      <td>0<\/td>\n",
       "    <\/tr>\n",
       "  <\/tbody>\n",
       "<\/table>\n",
       "<\/div>"
      ]
     },
     "metadata":{
      
     },
     "output_type":"display_data"
    }
   ],
   "metadata":{
    "datalore":{
     "node_id":"tSC7zJDmdpc8mVTXXcbRjZ",
     "type":"CODE",
     "hide_input_from_viewers":true,
     "hide_output_from_viewers":true
    }
   }
  },
  {
   "cell_type":"code",
   "source":[
    "unsorted_df = pd.DataFrame(np.random.randn(13,3),index=[1,4,6,2,3,5,9,8,0,7,10,11,12], columns=['b','a','c'])\n",
    "unsorted_df"
   ],
   "execution_count":8,
   "outputs":[
    {
     "data":{
      "text\/html":[
       "<div>\n",
       "<style scoped>\n",
       "    .dataframe tbody tr th:only-of-type {\n",
       "        vertical-align: middle;\n",
       "    }\n",
       "\n",
       "    .dataframe tbody tr th {\n",
       "        vertical-align: top;\n",
       "    }\n",
       "\n",
       "    .dataframe thead th {\n",
       "        text-align: right;\n",
       "    }\n",
       "<\/style>\n",
       "<table border=\"1\" class=\"dataframe\">\n",
       "  <thead>\n",
       "    <tr style=\"text-align: right;\">\n",
       "      <th><\/th>\n",
       "      <th>b<\/th>\n",
       "      <th>a<\/th>\n",
       "      <th>c<\/th>\n",
       "    <\/tr>\n",
       "  <\/thead>\n",
       "  <tbody>\n",
       "    <tr>\n",
       "      <th>1<\/th>\n",
       "      <td>0.082297<\/td>\n",
       "      <td>-0.002043<\/td>\n",
       "      <td>-0.814769<\/td>\n",
       "    <\/tr>\n",
       "    <tr>\n",
       "      <th>4<\/th>\n",
       "      <td>0.173256<\/td>\n",
       "      <td>-0.561772<\/td>\n",
       "      <td>0.912531<\/td>\n",
       "    <\/tr>\n",
       "    <tr>\n",
       "      <th>6<\/th>\n",
       "      <td>-1.002639<\/td>\n",
       "      <td>0.960900<\/td>\n",
       "      <td>-0.792800<\/td>\n",
       "    <\/tr>\n",
       "    <tr>\n",
       "      <th>2<\/th>\n",
       "      <td>0.144071<\/td>\n",
       "      <td>1.302769<\/td>\n",
       "      <td>0.671668<\/td>\n",
       "    <\/tr>\n",
       "    <tr>\n",
       "      <th>3<\/th>\n",
       "      <td>0.967036<\/td>\n",
       "      <td>-0.745909<\/td>\n",
       "      <td>0.729212<\/td>\n",
       "    <\/tr>\n",
       "    <tr>\n",
       "      <th>5<\/th>\n",
       "      <td>1.218925<\/td>\n",
       "      <td>0.297138<\/td>\n",
       "      <td>-1.213332<\/td>\n",
       "    <\/tr>\n",
       "    <tr>\n",
       "      <th>9<\/th>\n",
       "      <td>0.924945<\/td>\n",
       "      <td>-0.469553<\/td>\n",
       "      <td>-0.844058<\/td>\n",
       "    <\/tr>\n",
       "    <tr>\n",
       "      <th>8<\/th>\n",
       "      <td>-0.282861<\/td>\n",
       "      <td>-0.524181<\/td>\n",
       "      <td>2.339705<\/td>\n",
       "    <\/tr>\n",
       "    <tr>\n",
       "      <th>0<\/th>\n",
       "      <td>1.452817<\/td>\n",
       "      <td>0.724813<\/td>\n",
       "      <td>-0.406565<\/td>\n",
       "    <\/tr>\n",
       "    <tr>\n",
       "      <th>7<\/th>\n",
       "      <td>-1.488975<\/td>\n",
       "      <td>0.492640<\/td>\n",
       "      <td>1.150375<\/td>\n",
       "    <\/tr>\n",
       "    <tr>\n",
       "      <th>10<\/th>\n",
       "      <td>-0.504337<\/td>\n",
       "      <td>1.524684<\/td>\n",
       "      <td>0.613874<\/td>\n",
       "    <\/tr>\n",
       "    <tr>\n",
       "      <th>11<\/th>\n",
       "      <td>0.754018<\/td>\n",
       "      <td>0.736567<\/td>\n",
       "      <td>-0.203847<\/td>\n",
       "    <\/tr>\n",
       "    <tr>\n",
       "      <th>12<\/th>\n",
       "      <td>-0.592644<\/td>\n",
       "      <td>-0.048450<\/td>\n",
       "      <td>0.876245<\/td>\n",
       "    <\/tr>\n",
       "  <\/tbody>\n",
       "<\/table>\n",
       "<\/div>"
      ]
     },
     "metadata":{
      
     },
     "output_type":"display_data"
    }
   ],
   "metadata":{
    "datalore":{
     "node_id":"wg1p8lLRHSurrIv2uOxTDU",
     "type":"CODE",
     "hide_input_from_viewers":true,
     "hide_output_from_viewers":true
    }
   }
  },
  {
   "cell_type":"code",
   "source":[
    "sorted_df = unsorted_df.sort_index(ascending=False)\n",
    "sorted_df"
   ],
   "execution_count":9,
   "outputs":[
    {
     "data":{
      "text\/html":[
       "<div>\n",
       "<style scoped>\n",
       "    .dataframe tbody tr th:only-of-type {\n",
       "        vertical-align: middle;\n",
       "    }\n",
       "\n",
       "    .dataframe tbody tr th {\n",
       "        vertical-align: top;\n",
       "    }\n",
       "\n",
       "    .dataframe thead th {\n",
       "        text-align: right;\n",
       "    }\n",
       "<\/style>\n",
       "<table border=\"1\" class=\"dataframe\">\n",
       "  <thead>\n",
       "    <tr style=\"text-align: right;\">\n",
       "      <th><\/th>\n",
       "      <th>b<\/th>\n",
       "      <th>a<\/th>\n",
       "      <th>c<\/th>\n",
       "    <\/tr>\n",
       "  <\/thead>\n",
       "  <tbody>\n",
       "    <tr>\n",
       "      <th>12<\/th>\n",
       "      <td>-0.592644<\/td>\n",
       "      <td>-0.048450<\/td>\n",
       "      <td>0.876245<\/td>\n",
       "    <\/tr>\n",
       "    <tr>\n",
       "      <th>11<\/th>\n",
       "      <td>0.754018<\/td>\n",
       "      <td>0.736567<\/td>\n",
       "      <td>-0.203847<\/td>\n",
       "    <\/tr>\n",
       "    <tr>\n",
       "      <th>10<\/th>\n",
       "      <td>-0.504337<\/td>\n",
       "      <td>1.524684<\/td>\n",
       "      <td>0.613874<\/td>\n",
       "    <\/tr>\n",
       "    <tr>\n",
       "      <th>9<\/th>\n",
       "      <td>0.924945<\/td>\n",
       "      <td>-0.469553<\/td>\n",
       "      <td>-0.844058<\/td>\n",
       "    <\/tr>\n",
       "    <tr>\n",
       "      <th>8<\/th>\n",
       "      <td>-0.282861<\/td>\n",
       "      <td>-0.524181<\/td>\n",
       "      <td>2.339705<\/td>\n",
       "    <\/tr>\n",
       "    <tr>\n",
       "      <th>7<\/th>\n",
       "      <td>-1.488975<\/td>\n",
       "      <td>0.492640<\/td>\n",
       "      <td>1.150375<\/td>\n",
       "    <\/tr>\n",
       "    <tr>\n",
       "      <th>6<\/th>\n",
       "      <td>-1.002639<\/td>\n",
       "      <td>0.960900<\/td>\n",
       "      <td>-0.792800<\/td>\n",
       "    <\/tr>\n",
       "    <tr>\n",
       "      <th>5<\/th>\n",
       "      <td>1.218925<\/td>\n",
       "      <td>0.297138<\/td>\n",
       "      <td>-1.213332<\/td>\n",
       "    <\/tr>\n",
       "    <tr>\n",
       "      <th>4<\/th>\n",
       "      <td>0.173256<\/td>\n",
       "      <td>-0.561772<\/td>\n",
       "      <td>0.912531<\/td>\n",
       "    <\/tr>\n",
       "    <tr>\n",
       "      <th>3<\/th>\n",
       "      <td>0.967036<\/td>\n",
       "      <td>-0.745909<\/td>\n",
       "      <td>0.729212<\/td>\n",
       "    <\/tr>\n",
       "    <tr>\n",
       "      <th>2<\/th>\n",
       "      <td>0.144071<\/td>\n",
       "      <td>1.302769<\/td>\n",
       "      <td>0.671668<\/td>\n",
       "    <\/tr>\n",
       "    <tr>\n",
       "      <th>1<\/th>\n",
       "      <td>0.082297<\/td>\n",
       "      <td>-0.002043<\/td>\n",
       "      <td>-0.814769<\/td>\n",
       "    <\/tr>\n",
       "    <tr>\n",
       "      <th>0<\/th>\n",
       "      <td>1.452817<\/td>\n",
       "      <td>0.724813<\/td>\n",
       "      <td>-0.406565<\/td>\n",
       "    <\/tr>\n",
       "  <\/tbody>\n",
       "<\/table>\n",
       "<\/div>"
      ]
     },
     "metadata":{
      
     },
     "output_type":"display_data"
    }
   ],
   "metadata":{
    "datalore":{
     "node_id":"sWS2Hh8rYh3snYDrpBxFHe",
     "type":"CODE",
     "hide_input_from_viewers":true,
     "hide_output_from_viewers":true
    }
   }
  },
  {
   "cell_type":"code",
   "source":[
    "sorted_df.to_csv('sortowane.csv')"
   ],
   "execution_count":10,
   "outputs":[
    
   ],
   "metadata":{
    "datalore":{
     "node_id":"zqX7w5qW1P8YBztdRTo2sp",
     "type":"CODE",
     "hide_input_from_viewers":true,
     "hide_output_from_viewers":true
    }
   }
  }
 ],
 "metadata":{
  "kernelspec":{
   "display_name":"Python",
   "language":"python",
   "name":"python"
  },
  "datalore":{
   "computation_mode":"JUPYTER",
   "package_manager":"pip",
   "base_environment":"default",
   "packages":[
    
   ],
   "report_row_ids":[
    
   ],
   "version":3
  }
 },
 "nbformat":4,
 "nbformat_minor":4
}